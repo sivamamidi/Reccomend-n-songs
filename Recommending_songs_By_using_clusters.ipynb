{
 "cells": [
  {
   "cell_type": "code",
   "execution_count": 37,
   "metadata": {},
   "outputs": [],
   "source": [
    "# import necessary libraries\n",
    "import pandas as pd \n",
    "import numpy as np \n",
    "from sklearn.decomposition import NMF\n",
    "from sklearn.cluster import KMeans\n",
    "import matplotlib.pyplot as plt\n",
    "from sklearn.neighbors import NearestNeighbors"
   ]
  },
  {
   "cell_type": "code",
   "execution_count": 2,
   "metadata": {},
   "outputs": [],
   "source": [
    "# Loading the dataset\n",
    "data = pd.read_csv('spotify.xls',index_col=[0])"
   ]
  },
  {
   "cell_type": "code",
   "execution_count": 3,
   "metadata": {},
   "outputs": [
    {
     "data": {
      "text/html": [
       "<div>\n",
       "<style scoped>\n",
       "    .dataframe tbody tr th:only-of-type {\n",
       "        vertical-align: middle;\n",
       "    }\n",
       "\n",
       "    .dataframe tbody tr th {\n",
       "        vertical-align: top;\n",
       "    }\n",
       "\n",
       "    .dataframe thead th {\n",
       "        text-align: right;\n",
       "    }\n",
       "</style>\n",
       "<table border=\"1\" class=\"dataframe\">\n",
       "  <thead>\n",
       "    <tr style=\"text-align: right;\">\n",
       "      <th></th>\n",
       "      <th>song_1</th>\n",
       "      <th>song_2</th>\n",
       "      <th>song_3</th>\n",
       "      <th>song_4</th>\n",
       "      <th>song_5</th>\n",
       "      <th>song_6</th>\n",
       "      <th>song_7</th>\n",
       "      <th>song_8</th>\n",
       "      <th>song_9</th>\n",
       "      <th>song_10</th>\n",
       "      <th>...</th>\n",
       "      <th>song_4991</th>\n",
       "      <th>song_4992</th>\n",
       "      <th>song_4993</th>\n",
       "      <th>song_4994</th>\n",
       "      <th>song_4995</th>\n",
       "      <th>song_4996</th>\n",
       "      <th>song_4997</th>\n",
       "      <th>song_4998</th>\n",
       "      <th>song_4999</th>\n",
       "      <th>song_5000</th>\n",
       "    </tr>\n",
       "  </thead>\n",
       "  <tbody>\n",
       "    <tr>\n",
       "      <th>user_1</th>\n",
       "      <td>2</td>\n",
       "      <td>2</td>\n",
       "      <td>8</td>\n",
       "      <td>8</td>\n",
       "      <td>13</td>\n",
       "      <td>1</td>\n",
       "      <td>4</td>\n",
       "      <td>9</td>\n",
       "      <td>1</td>\n",
       "      <td>2</td>\n",
       "      <td>...</td>\n",
       "      <td>14</td>\n",
       "      <td>2</td>\n",
       "      <td>14</td>\n",
       "      <td>1</td>\n",
       "      <td>9</td>\n",
       "      <td>0</td>\n",
       "      <td>11</td>\n",
       "      <td>6</td>\n",
       "      <td>14</td>\n",
       "      <td>7</td>\n",
       "    </tr>\n",
       "    <tr>\n",
       "      <th>user_2</th>\n",
       "      <td>13</td>\n",
       "      <td>5</td>\n",
       "      <td>5</td>\n",
       "      <td>5</td>\n",
       "      <td>12</td>\n",
       "      <td>8</td>\n",
       "      <td>10</td>\n",
       "      <td>10</td>\n",
       "      <td>2</td>\n",
       "      <td>2</td>\n",
       "      <td>...</td>\n",
       "      <td>10</td>\n",
       "      <td>6</td>\n",
       "      <td>11</td>\n",
       "      <td>1</td>\n",
       "      <td>1</td>\n",
       "      <td>5</td>\n",
       "      <td>12</td>\n",
       "      <td>8</td>\n",
       "      <td>3</td>\n",
       "      <td>0</td>\n",
       "    </tr>\n",
       "    <tr>\n",
       "      <th>user_3</th>\n",
       "      <td>3</td>\n",
       "      <td>9</td>\n",
       "      <td>2</td>\n",
       "      <td>8</td>\n",
       "      <td>0</td>\n",
       "      <td>1</td>\n",
       "      <td>11</td>\n",
       "      <td>7</td>\n",
       "      <td>3</td>\n",
       "      <td>7</td>\n",
       "      <td>...</td>\n",
       "      <td>9</td>\n",
       "      <td>5</td>\n",
       "      <td>7</td>\n",
       "      <td>15</td>\n",
       "      <td>12</td>\n",
       "      <td>13</td>\n",
       "      <td>14</td>\n",
       "      <td>5</td>\n",
       "      <td>0</td>\n",
       "      <td>14</td>\n",
       "    </tr>\n",
       "    <tr>\n",
       "      <th>user_4</th>\n",
       "      <td>2</td>\n",
       "      <td>6</td>\n",
       "      <td>7</td>\n",
       "      <td>8</td>\n",
       "      <td>14</td>\n",
       "      <td>0</td>\n",
       "      <td>12</td>\n",
       "      <td>7</td>\n",
       "      <td>8</td>\n",
       "      <td>1</td>\n",
       "      <td>...</td>\n",
       "      <td>9</td>\n",
       "      <td>15</td>\n",
       "      <td>9</td>\n",
       "      <td>14</td>\n",
       "      <td>10</td>\n",
       "      <td>6</td>\n",
       "      <td>11</td>\n",
       "      <td>13</td>\n",
       "      <td>6</td>\n",
       "      <td>0</td>\n",
       "    </tr>\n",
       "    <tr>\n",
       "      <th>user_5</th>\n",
       "      <td>11</td>\n",
       "      <td>12</td>\n",
       "      <td>8</td>\n",
       "      <td>6</td>\n",
       "      <td>13</td>\n",
       "      <td>7</td>\n",
       "      <td>0</td>\n",
       "      <td>7</td>\n",
       "      <td>3</td>\n",
       "      <td>13</td>\n",
       "      <td>...</td>\n",
       "      <td>12</td>\n",
       "      <td>14</td>\n",
       "      <td>11</td>\n",
       "      <td>11</td>\n",
       "      <td>11</td>\n",
       "      <td>7</td>\n",
       "      <td>3</td>\n",
       "      <td>6</td>\n",
       "      <td>11</td>\n",
       "      <td>7</td>\n",
       "    </tr>\n",
       "    <tr>\n",
       "      <th>...</th>\n",
       "      <td>...</td>\n",
       "      <td>...</td>\n",
       "      <td>...</td>\n",
       "      <td>...</td>\n",
       "      <td>...</td>\n",
       "      <td>...</td>\n",
       "      <td>...</td>\n",
       "      <td>...</td>\n",
       "      <td>...</td>\n",
       "      <td>...</td>\n",
       "      <td>...</td>\n",
       "      <td>...</td>\n",
       "      <td>...</td>\n",
       "      <td>...</td>\n",
       "      <td>...</td>\n",
       "      <td>...</td>\n",
       "      <td>...</td>\n",
       "      <td>...</td>\n",
       "      <td>...</td>\n",
       "      <td>...</td>\n",
       "      <td>...</td>\n",
       "    </tr>\n",
       "    <tr>\n",
       "      <th>user_996</th>\n",
       "      <td>8</td>\n",
       "      <td>0</td>\n",
       "      <td>11</td>\n",
       "      <td>10</td>\n",
       "      <td>1</td>\n",
       "      <td>10</td>\n",
       "      <td>13</td>\n",
       "      <td>13</td>\n",
       "      <td>10</td>\n",
       "      <td>6</td>\n",
       "      <td>...</td>\n",
       "      <td>10</td>\n",
       "      <td>0</td>\n",
       "      <td>8</td>\n",
       "      <td>4</td>\n",
       "      <td>0</td>\n",
       "      <td>7</td>\n",
       "      <td>13</td>\n",
       "      <td>7</td>\n",
       "      <td>2</td>\n",
       "      <td>6</td>\n",
       "    </tr>\n",
       "    <tr>\n",
       "      <th>user_997</th>\n",
       "      <td>7</td>\n",
       "      <td>6</td>\n",
       "      <td>9</td>\n",
       "      <td>6</td>\n",
       "      <td>15</td>\n",
       "      <td>6</td>\n",
       "      <td>14</td>\n",
       "      <td>2</td>\n",
       "      <td>9</td>\n",
       "      <td>7</td>\n",
       "      <td>...</td>\n",
       "      <td>15</td>\n",
       "      <td>9</td>\n",
       "      <td>2</td>\n",
       "      <td>2</td>\n",
       "      <td>6</td>\n",
       "      <td>1</td>\n",
       "      <td>0</td>\n",
       "      <td>5</td>\n",
       "      <td>15</td>\n",
       "      <td>11</td>\n",
       "    </tr>\n",
       "    <tr>\n",
       "      <th>user_998</th>\n",
       "      <td>6</td>\n",
       "      <td>2</td>\n",
       "      <td>1</td>\n",
       "      <td>5</td>\n",
       "      <td>1</td>\n",
       "      <td>7</td>\n",
       "      <td>2</td>\n",
       "      <td>4</td>\n",
       "      <td>4</td>\n",
       "      <td>0</td>\n",
       "      <td>...</td>\n",
       "      <td>0</td>\n",
       "      <td>13</td>\n",
       "      <td>6</td>\n",
       "      <td>13</td>\n",
       "      <td>0</td>\n",
       "      <td>1</td>\n",
       "      <td>11</td>\n",
       "      <td>13</td>\n",
       "      <td>6</td>\n",
       "      <td>13</td>\n",
       "    </tr>\n",
       "    <tr>\n",
       "      <th>user_999</th>\n",
       "      <td>7</td>\n",
       "      <td>0</td>\n",
       "      <td>8</td>\n",
       "      <td>12</td>\n",
       "      <td>6</td>\n",
       "      <td>2</td>\n",
       "      <td>6</td>\n",
       "      <td>2</td>\n",
       "      <td>0</td>\n",
       "      <td>12</td>\n",
       "      <td>...</td>\n",
       "      <td>14</td>\n",
       "      <td>7</td>\n",
       "      <td>12</td>\n",
       "      <td>3</td>\n",
       "      <td>5</td>\n",
       "      <td>15</td>\n",
       "      <td>5</td>\n",
       "      <td>11</td>\n",
       "      <td>9</td>\n",
       "      <td>12</td>\n",
       "    </tr>\n",
       "    <tr>\n",
       "      <th>user_1000</th>\n",
       "      <td>6</td>\n",
       "      <td>15</td>\n",
       "      <td>0</td>\n",
       "      <td>14</td>\n",
       "      <td>1</td>\n",
       "      <td>11</td>\n",
       "      <td>8</td>\n",
       "      <td>8</td>\n",
       "      <td>14</td>\n",
       "      <td>7</td>\n",
       "      <td>...</td>\n",
       "      <td>12</td>\n",
       "      <td>5</td>\n",
       "      <td>0</td>\n",
       "      <td>4</td>\n",
       "      <td>2</td>\n",
       "      <td>4</td>\n",
       "      <td>0</td>\n",
       "      <td>15</td>\n",
       "      <td>4</td>\n",
       "      <td>5</td>\n",
       "    </tr>\n",
       "  </tbody>\n",
       "</table>\n",
       "<p>1000 rows × 5000 columns</p>\n",
       "</div>"
      ],
      "text/plain": [
       "           song_1  song_2  song_3  song_4  song_5  song_6  song_7  song_8  \\\n",
       "user_1          2       2       8       8      13       1       4       9   \n",
       "user_2         13       5       5       5      12       8      10      10   \n",
       "user_3          3       9       2       8       0       1      11       7   \n",
       "user_4          2       6       7       8      14       0      12       7   \n",
       "user_5         11      12       8       6      13       7       0       7   \n",
       "...           ...     ...     ...     ...     ...     ...     ...     ...   \n",
       "user_996        8       0      11      10       1      10      13      13   \n",
       "user_997        7       6       9       6      15       6      14       2   \n",
       "user_998        6       2       1       5       1       7       2       4   \n",
       "user_999        7       0       8      12       6       2       6       2   \n",
       "user_1000       6      15       0      14       1      11       8       8   \n",
       "\n",
       "           song_9  song_10  ...  song_4991  song_4992  song_4993  song_4994  \\\n",
       "user_1          1        2  ...         14          2         14          1   \n",
       "user_2          2        2  ...         10          6         11          1   \n",
       "user_3          3        7  ...          9          5          7         15   \n",
       "user_4          8        1  ...          9         15          9         14   \n",
       "user_5          3       13  ...         12         14         11         11   \n",
       "...           ...      ...  ...        ...        ...        ...        ...   \n",
       "user_996       10        6  ...         10          0          8          4   \n",
       "user_997        9        7  ...         15          9          2          2   \n",
       "user_998        4        0  ...          0         13          6         13   \n",
       "user_999        0       12  ...         14          7         12          3   \n",
       "user_1000      14        7  ...         12          5          0          4   \n",
       "\n",
       "           song_4995  song_4996  song_4997  song_4998  song_4999  song_5000  \n",
       "user_1             9          0         11          6         14          7  \n",
       "user_2             1          5         12          8          3          0  \n",
       "user_3            12         13         14          5          0         14  \n",
       "user_4            10          6         11         13          6          0  \n",
       "user_5            11          7          3          6         11          7  \n",
       "...              ...        ...        ...        ...        ...        ...  \n",
       "user_996           0          7         13          7          2          6  \n",
       "user_997           6          1          0          5         15         11  \n",
       "user_998           0          1         11         13          6         13  \n",
       "user_999           5         15          5         11          9         12  \n",
       "user_1000          2          4          0         15          4          5  \n",
       "\n",
       "[1000 rows x 5000 columns]"
      ]
     },
     "execution_count": 3,
     "metadata": {},
     "output_type": "execute_result"
    }
   ],
   "source": [
    "data"
   ]
  },
  {
   "cell_type": "code",
   "execution_count": 4,
   "metadata": {},
   "outputs": [],
   "source": [
    "# Non negative Matrix factorization\n"
   ]
  },
  {
   "cell_type": "code",
   "execution_count": 5,
   "metadata": {},
   "outputs": [],
   "source": [
    "nmf = NMF(n_components=100,max_iter=1000,random_state=200)"
   ]
  },
  {
   "cell_type": "code",
   "execution_count": 6,
   "metadata": {},
   "outputs": [],
   "source": [
    "X = data.values"
   ]
  },
  {
   "cell_type": "code",
   "execution_count": 7,
   "metadata": {},
   "outputs": [
    {
     "data": {
      "text/plain": [
       "array([[ 2,  2,  8, ...,  6, 14,  7],\n",
       "       [13,  5,  5, ...,  8,  3,  0],\n",
       "       [ 3,  9,  2, ...,  5,  0, 14],\n",
       "       ...,\n",
       "       [ 6,  2,  1, ..., 13,  6, 13],\n",
       "       [ 7,  0,  8, ..., 11,  9, 12],\n",
       "       [ 6, 15,  0, ..., 15,  4,  5]], dtype=int64)"
      ]
     },
     "execution_count": 7,
     "metadata": {},
     "output_type": "execute_result"
    }
   ],
   "source": [
    "X"
   ]
  },
  {
   "cell_type": "code",
   "execution_count": 8,
   "metadata": {},
   "outputs": [
    {
     "name": "stderr",
     "output_type": "stream",
     "text": [
      "C:\\Users\\intel\\AppData\\Roaming\\Python\\Python37\\site-packages\\sklearn\\decomposition\\_nmf.py:315: FutureWarning: The 'init' value, when 'init=None' and n_components is less than n_samples and n_features, will be changed from 'nndsvd' to 'nndsvda' in 1.1 (renaming of 0.26).\n",
      "  \"'nndsvda' in 1.1 (renaming of 0.26).\"), FutureWarning)\n",
      "C:\\Users\\intel\\AppData\\Roaming\\Python\\Python37\\site-packages\\sklearn\\decomposition\\_nmf.py:1091: ConvergenceWarning: Maximum number of iterations 1000 reached. Increase it to improve convergence.\n",
      "  \" improve convergence.\" % max_iter, ConvergenceWarning)\n"
     ]
    },
    {
     "data": {
      "text/plain": [
       "NMF(max_iter=1000, n_components=100, random_state=200)"
      ]
     },
     "execution_count": 8,
     "metadata": {},
     "output_type": "execute_result"
    }
   ],
   "source": [
    "nmf.fit(X)"
   ]
  },
  {
   "cell_type": "code",
   "execution_count": 9,
   "metadata": {},
   "outputs": [],
   "source": [
    "user_matrix = nmf.transform(X)"
   ]
  },
  {
   "cell_type": "code",
   "execution_count": 10,
   "metadata": {},
   "outputs": [
    {
     "data": {
      "text/plain": [
       "(1000, 100)"
      ]
     },
     "execution_count": 10,
     "metadata": {},
     "output_type": "execute_result"
    }
   ],
   "source": [
    "user_matrix.shape"
   ]
  },
  {
   "cell_type": "code",
   "execution_count": 11,
   "metadata": {},
   "outputs": [],
   "source": [
    "song_matrix = nmf.components_.T"
   ]
  },
  {
   "cell_type": "code",
   "execution_count": 12,
   "metadata": {},
   "outputs": [
    {
     "data": {
      "text/plain": [
       "(5000, 100)"
      ]
     },
     "execution_count": 12,
     "metadata": {},
     "output_type": "execute_result"
    }
   ],
   "source": [
    "song_matrix.shape"
   ]
  },
  {
   "cell_type": "code",
   "execution_count": 13,
   "metadata": {},
   "outputs": [
    {
     "data": {
      "text/plain": [
       "array([[0.03041152, 0.        , 6.03735754, ..., 0.        , 0.        ,\n",
       "        0.        ],\n",
       "       [0.        , 0.10450949, 0.        , ..., 0.        , 1.51397869,\n",
       "        0.        ],\n",
       "       [0.        , 3.09227919, 0.        , ..., 0.62299824, 0.        ,\n",
       "        0.        ],\n",
       "       ...,\n",
       "       [0.        , 1.26239448, 0.        , ..., 0.        , 0.        ,\n",
       "        0.        ],\n",
       "       [1.11442141, 3.90306648, 0.5963574 , ..., 0.        , 0.51928477,\n",
       "        0.        ],\n",
       "       [0.        , 0.        , 0.        , ..., 1.32054707, 0.        ,\n",
       "        0.        ]])"
      ]
     },
     "execution_count": 13,
     "metadata": {},
     "output_type": "execute_result"
    }
   ],
   "source": [
    "user_matrix"
   ]
  },
  {
   "cell_type": "code",
   "execution_count": 14,
   "metadata": {},
   "outputs": [
    {
     "data": {
      "text/plain": [
       "array([[0.29227977, 0.29155378, 0.23095434, ..., 0.02158349, 0.        ,\n",
       "        0.042259  ],\n",
       "       [0.2201218 , 0.        , 0.        , ..., 0.        , 0.52120311,\n",
       "        0.16391248],\n",
       "       [0.        , 0.16101005, 0.        , ..., 0.22639116, 0.26109955,\n",
       "        0.14051861],\n",
       "       ...,\n",
       "       [0.        , 0.29521502, 0.02888085, ..., 0.31876971, 0.2938576 ,\n",
       "        0.2803698 ],\n",
       "       [0.21569302, 0.10762248, 0.04239307, ..., 0.17080385, 0.03336278,\n",
       "        0.28784931],\n",
       "       [0.10459146, 0.24942716, 0.12342307, ..., 0.31145263, 0.17757793,\n",
       "        0.22799469]])"
      ]
     },
     "execution_count": 14,
     "metadata": {},
     "output_type": "execute_result"
    }
   ],
   "source": [
    "song_matrix"
   ]
  },
  {
   "cell_type": "code",
   "execution_count": 15,
   "metadata": {},
   "outputs": [],
   "source": [
    "# steps for building recommendation system\n",
    "#1. Consider reccomending songs to user1 ,user1 located at rows 0\n",
    "#2 find the eucledean distance between the user1 and the remaining 999 user\n",
    "# Find the top_n songs by 5 users which are closes to userno.1\n",
    "# Recoommend all the n songs to user1\n"
   ]
  },
  {
   "cell_type": "code",
   "execution_count": 16,
   "metadata": {},
   "outputs": [],
   "source": [
    "# Calucalating the eucledian distance \n",
    "def distance(u1,u2):\n",
    "    return pow(sum([pow(u1[x]-u2[x],2)for x in range(len(u1))]),0.5)"
   ]
  },
  {
   "cell_type": "code",
   "execution_count": 17,
   "metadata": {},
   "outputs": [
    {
     "data": {
      "text/plain": [
       "16.400235201548536"
      ]
     },
     "execution_count": 17,
     "metadata": {},
     "output_type": "execute_result"
    }
   ],
   "source": [
    "distance(user_matrix[0],user_matrix[1])"
   ]
  },
  {
   "cell_type": "code",
   "execution_count": 18,
   "metadata": {},
   "outputs": [],
   "source": [
    "# calucalting the distance from all the user from the base user"
   ]
  },
  {
   "cell_type": "code",
   "execution_count": 19,
   "metadata": {},
   "outputs": [],
   "source": [
    "def distance_baseuser(base_user,user_matrix):\n",
    "    import sys \n",
    "    dist = []\n",
    "    for i in range(len(user_matrix)):\n",
    "        if base_user != i:\n",
    "            dist.append(distance(user_matrix[base_user],user_matrix[i]))\n",
    "        else:\n",
    "            dist.append(sys.float_info.max)\n",
    "    return dist"
   ]
  },
  {
   "cell_type": "code",
   "execution_count": 20,
   "metadata": {},
   "outputs": [],
   "source": [
    "dist_u = distance_baseuser(0,user_matrix)"
   ]
  },
  {
   "cell_type": "code",
   "execution_count": 21,
   "metadata": {},
   "outputs": [],
   "source": [
    "user_close = np.argsort(dist_u)[0:5]"
   ]
  },
  {
   "cell_type": "code",
   "execution_count": 22,
   "metadata": {},
   "outputs": [
    {
     "data": {
      "text/plain": [
       "array([313, 379, 174, 882, 687], dtype=int64)"
      ]
     },
     "execution_count": 22,
     "metadata": {},
     "output_type": "execute_result"
    }
   ],
   "source": [
    "user_close"
   ]
  },
  {
   "cell_type": "code",
   "execution_count": 23,
   "metadata": {},
   "outputs": [],
   "source": [
    "# Finding out the songs the closest users are listening to \n"
   ]
  },
  {
   "cell_type": "code",
   "execution_count": 24,
   "metadata": {},
   "outputs": [
    {
     "name": "stdout",
     "output_type": "stream",
     "text": [
      "songs heard by user 313  are: \n",
      "Index(['song_1', 'song_2', 'song_3', 'song_4', 'song_5', 'song_6', 'song_7',\n",
      "       'song_8', 'song_10', 'song_11',\n",
      "       ...\n",
      "       'song_4991', 'song_4992', 'song_4993', 'song_4994', 'song_4995',\n",
      "       'song_4996', 'song_4997', 'song_4998', 'song_4999', 'song_5000'],\n",
      "      dtype='object', length=4690)\n",
      "songs heard by user 379  are: \n",
      "Index(['song_1', 'song_2', 'song_3', 'song_4', 'song_5', 'song_6', 'song_7',\n",
      "       'song_8', 'song_10', 'song_11',\n",
      "       ...\n",
      "       'song_4990', 'song_4991', 'song_4993', 'song_4994', 'song_4995',\n",
      "       'song_4996', 'song_4997', 'song_4998', 'song_4999', 'song_5000'],\n",
      "      dtype='object', length=4674)\n",
      "songs heard by user 174  are: \n",
      "Index(['song_1', 'song_2', 'song_3', 'song_4', 'song_5', 'song_6', 'song_7',\n",
      "       'song_8', 'song_9', 'song_10',\n",
      "       ...\n",
      "       'song_4991', 'song_4992', 'song_4993', 'song_4994', 'song_4995',\n",
      "       'song_4996', 'song_4997', 'song_4998', 'song_4999', 'song_5000'],\n",
      "      dtype='object', length=4676)\n",
      "songs heard by user 882  are: \n",
      "Index(['song_1', 'song_2', 'song_4', 'song_5', 'song_6', 'song_7', 'song_8',\n",
      "       'song_9', 'song_10', 'song_11',\n",
      "       ...\n",
      "       'song_4990', 'song_4991', 'song_4992', 'song_4993', 'song_4995',\n",
      "       'song_4996', 'song_4997', 'song_4998', 'song_4999', 'song_5000'],\n",
      "      dtype='object', length=4688)\n",
      "songs heard by user 687  are: \n",
      "Index(['song_1', 'song_2', 'song_4', 'song_5', 'song_6', 'song_8', 'song_9',\n",
      "       'song_10', 'song_11', 'song_12',\n",
      "       ...\n",
      "       'song_4991', 'song_4992', 'song_4993', 'song_4994', 'song_4995',\n",
      "       'song_4996', 'song_4997', 'song_4998', 'song_4999', 'song_5000'],\n",
      "      dtype='object', length=4711)\n"
     ]
    }
   ],
   "source": [
    "for i in user_close:\n",
    "    print('songs heard by user',i,' are: ')\n",
    "    temp = pd.DataFrame(data.iloc[i])\n",
    "    print(temp[temp.values !=0].index)"
   ]
  },
  {
   "cell_type": "code",
   "execution_count": 25,
   "metadata": {},
   "outputs": [],
   "source": [
    "# Reccomending the top 5 songs to user1\n"
   ]
  },
  {
   "cell_type": "code",
   "execution_count": 26,
   "metadata": {},
   "outputs": [],
   "source": [
    "def top_5songs(user_close,data):\n",
    "    temp = data.iloc[user_close]\n",
    "    dic = temp.max().to_dict()\n",
    "    sort_dic = sorted(dic.items(),key=lambda keyvalue : (keyvalue[1],keyvalue[0]),reverse=True)[0:5]\n",
    "    return[x[0] for x in sort_dic]\n",
    "    \n",
    "    "
   ]
  },
  {
   "cell_type": "code",
   "execution_count": 27,
   "metadata": {},
   "outputs": [
    {
     "data": {
      "text/plain": [
       "['song_998', 'song_996', 'song_991', 'song_990', 'song_988']"
      ]
     },
     "execution_count": 27,
     "metadata": {},
     "output_type": "execute_result"
    }
   ],
   "source": [
    "top_5songs(user_close,data)"
   ]
  },
  {
   "cell_type": "code",
   "execution_count": 28,
   "metadata": {},
   "outputs": [],
   "source": [
    "# Using the clustering the Algorithm"
   ]
  },
  {
   "cell_type": "code",
   "execution_count": 31,
   "metadata": {},
   "outputs": [],
   "source": [
    "mse = {}\n",
    "for k in range(1,50):\n",
    "    kmeans = KMeans(n_clusters=k,max_iter=1000).fit(song_matrix)\n",
    "    mse[k] = kmeans.inertia_\n",
    "    \n",
    "    \n",
    "    "
   ]
  },
  {
   "cell_type": "code",
   "execution_count": 32,
   "metadata": {},
   "outputs": [],
   "source": [
    "# plotting elbow curve to check the best value of k"
   ]
  },
  {
   "cell_type": "code",
   "execution_count": 35,
   "metadata": {},
   "outputs": [
    {
     "data": {
      "image/png": "[encoded data removed]",
      "text/plain": [
       "<Figure size 432x288 with 1 Axes>"
      ]
     },
     "metadata": {
      "needs_background": "light"
     },
     "output_type": "display_data"
    }
   ],
   "source": [
    "plt.figure()\n",
    "plt.plot(list(mse.keys()),list(mse.values()))\n",
    "plt.xlabel('no of clusters')\n",
    "plt.ylabel('Mean squared Error')\n",
    "plt.show()"
   ]
  },
  {
   "cell_type": "markdown",
   "metadata": {},
   "source": [
    "# Note recomending songs to users based on the type of song the user hears(find out the cluster in which the user song is located)\n",
    "# finding out songs of that cluser heard maximum no of times suggesting them to the user .THIS is the cluster Approach and no based on the clusters of the user"
   ]
  },
  {
   "cell_type": "code",
   "execution_count": 38,
   "metadata": {},
   "outputs": [],
   "source": [
    "# function for recommeding songs\n",
    "def reccomend_songs(data,clusters,song_matrix,user_fav_songs,n_recommendation):\n",
    "    \n",
    "    # Fitting the Kmeans algorithm\n",
    "    kmeans = KMeans(n_clusters=clusters,max_iter=1000).fit(song_matrix)\n",
    "    \n",
    "    # getting the index value of the users fav song\n",
    "    \n",
    "    index_fav_song = data.columns.to_list().index(user_fav_songs)\n",
    "    \n",
    "    # no of times the song is heard\n",
    "    \n",
    "    song_vector = song_matrix[index_fav_song]\n",
    "    \n",
    "    # creating the clusters of the song \n",
    "    \n",
    "    songs_in_cluster = list(kmeans.predict(song_matrix))\n",
    "    \n",
    "    # finding the cluster of the fav song and checking the no of times the users favourite song is heard and finding similar songs inside  the cluster\n",
    "\n",
    "    songs_selected_from_clusters = [x for x in range(len(songs_in_cluster))if songs_in_cluster[x] == kmeans.predict([song_vector])] \n",
    "    # collecting all the songs from the song matrix on the basis of clusters which was identiffed\n",
    "    song_cluster = song_matrix[songs_selected_from_clusters]\n",
    "    # Finding the nearest songs to the users favourite song \n",
    "    recommend = NearestNeighbors(n_neighbors = n_recommendation)\n",
    "     # identifying the nearest neghbours in our clustes\n",
    "    recommend.fit(song_cluster)\n",
    "    \n",
    "    # picking up the songs to recommend\n",
    "    recommend_songs = recommend.kneighbors([song_matrix[index_fav_song]])[1]\n",
    "     # print recoomend songs\n",
    "    print(recommend_songs)\n",
    "    \n",
    "    "
   ]
  },
  {
   "cell_type": "code",
   "execution_count": 41,
   "metadata": {},
   "outputs": [
    {
     "name": "stdout",
     "output_type": "stream",
     "text": [
      "[[  1 345 104 192 222 198 168 357  88 361]]\n"
     ]
    }
   ],
   "source": [
    "reccomend_songs(data,12,song_matrix,'song_10',10)"
   ]
  },
  {
   "cell_type": "code",
   "execution_count": null,
   "metadata": {},
   "outputs": [],
   "source": []
  }
 ],
 "metadata": {
  "kernelspec": {
   "display_name": "Python 3",
   "language": "python",
   "name": "python3"
  },
  "language_info": {
   "codemirror_mode": {
    "name": "ipython",
    "version": 3
   },
   "file_extension": ".py",
   "mimetype": "text/x-python",
   "name": "python",
   "nbconvert_exporter": "python",
   "pygments_lexer": "ipython3",
   "version": "3.7.6"
  }
 },
 "nbformat": 4,
 "nbformat_minor": 4
}
